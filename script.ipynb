{
 "cells": [
  {
   "cell_type": "code",
   "execution_count": 11,
   "metadata": {},
   "outputs": [
    {
     "name": "stdout",
     "output_type": "stream",
     "text": [
      "loading cities data...\n",
      "data not found. preparing data\n",
      "loading barcelona data...\n",
      "loading prague data...\n",
      "loading mallorca data...\n",
      "loading lisbon data...\n",
      "loading malaga data...\n",
      "loading athens data...\n",
      "loading vienna data...\n",
      "loading crete data...\n",
      "loading florence data...\n",
      "loading london data...\n",
      "loading edinburgh data...\n",
      "loading rome data...\n",
      "loading paris data...\n",
      "loading copenhagen data...\n",
      "loading amsterdam data...\n",
      "data prepped and loaded\n"
     ]
    }
   ],
   "source": [
    "# combine/load listings data\n",
    "\n",
    "import pandas as pd\n",
    "\n",
    "cities = [\"barcelona\", \"prague\", \"mallorca\", \"lisbon\", \n",
    "          \"malaga\", \"athens\", \"vienna\", \"crete\", \n",
    "          \"florence\", \"london\", \"edinburgh\", \n",
    "          \"rome\", \"paris\", \"copenhagen\", \"amsterdam\"]\n",
    "\n",
    "print(\"loading cities data...\")\n",
    "\n",
    "try: \n",
    "    cities_data = pd.read_csv(\"data/listings.csv.gz\")\n",
    "    print(\"data loaded\")\n",
    "except:\n",
    "    print(\"data not found. preparing data\")\n",
    "    cities_data = pd.DataFrame()\n",
    "\n",
    "    for city in cities:\n",
    "        print(f\"loading {city} data...\")\n",
    "        city_data = pd.read_csv(f\"data/{city}-listings.csv.gz\")\n",
    "        city_data['city'] = city\n",
    "        cities_data = pd.concat([cities_data, city_data], axis=0)\n",
    "    \n",
    "    print(\"data prepped and loaded\")\n",
    "\n",
    "cities_data.to_csv(\"data/listings.csv.gz\", index=False)"
   ]
  },
  {
   "cell_type": "code",
   "execution_count": 12,
   "metadata": {},
   "outputs": [],
   "source": [
    "import polars as pl\n",
    "df = pl.read_csv('data/listings.csv.gz')\n",
    "\n",
    "df = df.filter(pl.col('city')=='barcelona')\n",
    "df = df.filter((pl.col('property_type')=='Entire rental unit')&(pl.col('has_availability')=='t'))"
   ]
  },
  {
   "cell_type": "code",
   "execution_count": 13,
   "metadata": {},
   "outputs": [
    {
     "data": {
      "text/html": [
       "<div><style>\n",
       ".dataframe > thead > tr,\n",
       ".dataframe > tbody > tr {\n",
       "  text-align: right;\n",
       "  white-space: pre-wrap;\n",
       "}\n",
       "</style>\n",
       "<small>shape: (2_828, 3)</small><table border=\"1\" class=\"dataframe\"><thead><tr><th>host_id</th><th>count</th><th>binned_counts</th></tr><tr><td>i64</td><td>u32</td><td>cat</td></tr></thead><tbody><tr><td>9100900</td><td>1</td><td>&quot;1&quot;</td></tr><tr><td>18078971</td><td>1</td><td>&quot;1&quot;</td></tr><tr><td>355379355</td><td>1</td><td>&quot;1&quot;</td></tr><tr><td>50349408</td><td>1</td><td>&quot;1&quot;</td></tr><tr><td>12070015</td><td>1</td><td>&quot;1&quot;</td></tr><tr><td>&hellip;</td><td>&hellip;</td><td>&hellip;</td></tr><tr><td>265193861</td><td>144</td><td>&quot;100+&quot;</td></tr><tr><td>4459553</td><td>191</td><td>&quot;100+&quot;</td></tr><tr><td>32037490</td><td>196</td><td>&quot;100+&quot;</td></tr><tr><td>1447144</td><td>230</td><td>&quot;100+&quot;</td></tr><tr><td>346367515</td><td>437</td><td>&quot;100+&quot;</td></tr></tbody></table></div>"
      ],
      "text/plain": [
       "shape: (2_828, 3)\n",
       "┌───────────┬───────┬───────────────┐\n",
       "│ host_id   ┆ count ┆ binned_counts │\n",
       "│ ---       ┆ ---   ┆ ---           │\n",
       "│ i64       ┆ u32   ┆ cat           │\n",
       "╞═══════════╪═══════╪═══════════════╡\n",
       "│ 9100900   ┆ 1     ┆ 1             │\n",
       "│ 18078971  ┆ 1     ┆ 1             │\n",
       "│ 355379355 ┆ 1     ┆ 1             │\n",
       "│ 50349408  ┆ 1     ┆ 1             │\n",
       "│ 12070015  ┆ 1     ┆ 1             │\n",
       "│ …         ┆ …     ┆ …             │\n",
       "│ 265193861 ┆ 144   ┆ 100+          │\n",
       "│ 4459553   ┆ 191   ┆ 100+          │\n",
       "│ 32037490  ┆ 196   ┆ 100+          │\n",
       "│ 1447144   ┆ 230   ┆ 100+          │\n",
       "│ 346367515 ┆ 437   ┆ 100+          │\n",
       "└───────────┴───────┴───────────────┘"
      ]
     },
     "execution_count": 13,
     "metadata": {},
     "output_type": "execute_result"
    }
   ],
   "source": [
    "host_count = df['host_id'].value_counts().sort('count')\n",
    "breaks = [1, 2, 5, 10, 100]\n",
    "labels = ['1', '2', '2+', '5+', '10+', '100+']\n",
    "host_count = host_count.with_columns(\n",
    "    pl.col('count').cut(breaks=breaks, labels=labels, left_closed=False).alias('binned_counts')\n",
    ")\n",
    "host_count"
   ]
  },
  {
   "cell_type": "code",
   "execution_count": 14,
   "metadata": {},
   "outputs": [
    {
     "data": {
      "text/html": [
       "<div><style>\n",
       ".dataframe > thead > tr,\n",
       ".dataframe > tbody > tr {\n",
       "  text-align: right;\n",
       "  white-space: pre-wrap;\n",
       "}\n",
       "</style>\n",
       "<small>shape: (6, 3)</small><table border=\"1\" class=\"dataframe\"><thead><tr><th>binned_counts</th><th>count</th><th>percentage</th></tr><tr><td>cat</td><td>u32</td><td>i32</td></tr></thead><tbody><tr><td>&quot;1&quot;</td><td>1929</td><td>19</td></tr><tr><td>&quot;2&quot;</td><td>640</td><td>6</td></tr><tr><td>&quot;2+&quot;</td><td>1001</td><td>10</td></tr><tr><td>&quot;5+&quot;</td><td>1002</td><td>10</td></tr><tr><td>&quot;10+&quot;</td><td>3837</td><td>38</td></tr><tr><td>&quot;100+&quot;</td><td>1619</td><td>16</td></tr></tbody></table></div>"
      ],
      "text/plain": [
       "shape: (6, 3)\n",
       "┌───────────────┬───────┬────────────┐\n",
       "│ binned_counts ┆ count ┆ percentage │\n",
       "│ ---           ┆ ---   ┆ ---        │\n",
       "│ cat           ┆ u32   ┆ i32        │\n",
       "╞═══════════════╪═══════╪════════════╡\n",
       "│ 1             ┆ 1929  ┆ 19         │\n",
       "│ 2             ┆ 640   ┆ 6          │\n",
       "│ 2+            ┆ 1001  ┆ 10         │\n",
       "│ 5+            ┆ 1002  ┆ 10         │\n",
       "│ 10+           ┆ 3837  ┆ 38         │\n",
       "│ 100+          ┆ 1619  ┆ 16         │\n",
       "└───────────────┴───────┴────────────┘"
      ]
     },
     "execution_count": 14,
     "metadata": {},
     "output_type": "execute_result"
    }
   ],
   "source": [
    "df = df.join(host_count, on='host_id', how='left')\n",
    "\n",
    "graph_data = df['binned_counts'].value_counts().sort('binned_counts')\n",
    "total_sum = graph_data['count'].sum()\n",
    "graph_data = graph_data.with_columns(((pl.col('count')/total_sum)*100).round().cast(pl.Int32).alias('percentage'))\n",
    "graph_data"
   ]
  },
  {
   "cell_type": "code",
   "execution_count": 26,
   "metadata": {},
   "outputs": [
    {
     "data": {
      "application/vnd.plotly.v1+json": {
       "config": {
        "plotlyServerURL": "https://plot.ly"
       },
       "data": [
        {
         "alignmentgroup": "True",
         "hovertemplate": "binned_counts=%{y}<br>percentage=%{x}<extra></extra>",
         "legendgroup": "1",
         "marker": {
          "color": "#537c78",
          "pattern": {
           "shape": ""
          }
         },
         "name": "1",
         "offsetgroup": "1",
         "orientation": "h",
         "showlegend": true,
         "textposition": "auto",
         "type": "bar",
         "x": [
          19
         ],
         "xaxis": "x",
         "y": [
          "1"
         ],
         "yaxis": "y"
        },
        {
         "alignmentgroup": "True",
         "hovertemplate": "binned_counts=%{y}<br>percentage=%{x}<extra></extra>",
         "legendgroup": "2",
         "marker": {
          "color": "#7ba591",
          "pattern": {
           "shape": ""
          }
         },
         "name": "2",
         "offsetgroup": "2",
         "orientation": "h",
         "showlegend": true,
         "textposition": "auto",
         "type": "bar",
         "x": [
          6
         ],
         "xaxis": "x",
         "y": [
          "2"
         ],
         "yaxis": "y"
        },
        {
         "alignmentgroup": "True",
         "hovertemplate": "binned_counts=%{y}<br>percentage=%{x}<extra></extra>",
         "legendgroup": "2+",
         "marker": {
          "color": "#cc222b",
          "pattern": {
           "shape": ""
          }
         },
         "name": "2+",
         "offsetgroup": "2+",
         "orientation": "h",
         "showlegend": true,
         "textposition": "auto",
         "type": "bar",
         "x": [
          10
         ],
         "xaxis": "x",
         "y": [
          "2+"
         ],
         "yaxis": "y"
        },
        {
         "alignmentgroup": "True",
         "hovertemplate": "binned_counts=%{y}<br>percentage=%{x}<extra></extra>",
         "legendgroup": "5+",
         "marker": {
          "color": "#f15b4c",
          "pattern": {
           "shape": ""
          }
         },
         "name": "5+",
         "offsetgroup": "5+",
         "orientation": "h",
         "showlegend": true,
         "textposition": "auto",
         "type": "bar",
         "x": [
          10
         ],
         "xaxis": "x",
         "y": [
          "5+"
         ],
         "yaxis": "y"
        },
        {
         "alignmentgroup": "True",
         "hovertemplate": "binned_counts=%{y}<br>percentage=%{x}<extra></extra>",
         "legendgroup": "10+",
         "marker": {
          "color": "#faa41b",
          "pattern": {
           "shape": ""
          }
         },
         "name": "10+",
         "offsetgroup": "10+",
         "orientation": "h",
         "showlegend": true,
         "textposition": "auto",
         "type": "bar",
         "x": [
          38
         ],
         "xaxis": "x",
         "y": [
          "10+"
         ],
         "yaxis": "y"
        },
        {
         "alignmentgroup": "True",
         "hovertemplate": "binned_counts=%{y}<br>percentage=%{x}<extra></extra>",
         "legendgroup": "100+",
         "marker": {
          "color": "#ffd45b",
          "pattern": {
           "shape": ""
          }
         },
         "name": "100+",
         "offsetgroup": "100+",
         "orientation": "h",
         "showlegend": true,
         "textposition": "auto",
         "type": "bar",
         "x": [
          16
         ],
         "xaxis": "x",
         "y": [
          "100+"
         ],
         "yaxis": "y"
        }
       ],
       "layout": {
        "annotations": [
         {
          "font": {
           "color": "white",
           "size": 20,
           "weight": "bold"
          },
          "showarrow": false,
          "text": "19%",
          "x": 17,
          "y": 5
         },
         {
          "font": {
           "color": "white",
           "size": 20,
           "weight": "bold"
          },
          "showarrow": false,
          "text": "6%",
          "x": 5,
          "y": 4
         },
         {
          "font": {
           "color": "white",
           "size": 20,
           "weight": "bold"
          },
          "showarrow": false,
          "text": "10%",
          "x": 8,
          "y": 3
         },
         {
          "font": {
           "color": "white",
           "size": 20,
           "weight": "bold"
          },
          "showarrow": false,
          "text": "10%",
          "x": 8,
          "y": 2
         },
         {
          "font": {
           "color": "white",
           "size": 20,
           "weight": "bold"
          },
          "showarrow": false,
          "text": "38%",
          "x": 35,
          "y": 1
         },
         {
          "font": {
           "color": "white",
           "size": 20,
           "weight": "bold"
          },
          "showarrow": false,
          "text": "16%",
          "x": 15,
          "y": 0
         }
        ],
        "barmode": "relative",
        "font": {
         "family": "Sans-serif"
        },
        "height": 700,
        "legend": {
         "orientation": "h",
         "title": {
          "text": "Number of properties per host"
         },
         "tracegroupgap": 0,
         "x": 0.5,
         "xanchor": "center",
         "y": -0.13,
         "yanchor": "bottom"
        },
        "margin": {
         "t": 60
        },
        "template": {
         "data": {
          "bar": [
           {
            "error_x": {
             "color": "#2a3f5f"
            },
            "error_y": {
             "color": "#2a3f5f"
            },
            "marker": {
             "line": {
              "color": "white",
              "width": 0.5
             },
             "pattern": {
              "fillmode": "overlay",
              "size": 10,
              "solidity": 0.2
             }
            },
            "type": "bar"
           }
          ],
          "barpolar": [
           {
            "marker": {
             "line": {
              "color": "white",
              "width": 0.5
             },
             "pattern": {
              "fillmode": "overlay",
              "size": 10,
              "solidity": 0.2
             }
            },
            "type": "barpolar"
           }
          ],
          "carpet": [
           {
            "aaxis": {
             "endlinecolor": "#2a3f5f",
             "gridcolor": "#C8D4E3",
             "linecolor": "#C8D4E3",
             "minorgridcolor": "#C8D4E3",
             "startlinecolor": "#2a3f5f"
            },
            "baxis": {
             "endlinecolor": "#2a3f5f",
             "gridcolor": "#C8D4E3",
             "linecolor": "#C8D4E3",
             "minorgridcolor": "#C8D4E3",
             "startlinecolor": "#2a3f5f"
            },
            "type": "carpet"
           }
          ],
          "choropleth": [
           {
            "colorbar": {
             "outlinewidth": 0,
             "ticks": ""
            },
            "type": "choropleth"
           }
          ],
          "contour": [
           {
            "colorbar": {
             "outlinewidth": 0,
             "ticks": ""
            },
            "colorscale": [
             [
              0,
              "#0d0887"
             ],
             [
              0.1111111111111111,
              "#46039f"
             ],
             [
              0.2222222222222222,
              "#7201a8"
             ],
             [
              0.3333333333333333,
              "#9c179e"
             ],
             [
              0.4444444444444444,
              "#bd3786"
             ],
             [
              0.5555555555555556,
              "#d8576b"
             ],
             [
              0.6666666666666666,
              "#ed7953"
             ],
             [
              0.7777777777777778,
              "#fb9f3a"
             ],
             [
              0.8888888888888888,
              "#fdca26"
             ],
             [
              1,
              "#f0f921"
             ]
            ],
            "type": "contour"
           }
          ],
          "contourcarpet": [
           {
            "colorbar": {
             "outlinewidth": 0,
             "ticks": ""
            },
            "type": "contourcarpet"
           }
          ],
          "heatmap": [
           {
            "colorbar": {
             "outlinewidth": 0,
             "ticks": ""
            },
            "colorscale": [
             [
              0,
              "#0d0887"
             ],
             [
              0.1111111111111111,
              "#46039f"
             ],
             [
              0.2222222222222222,
              "#7201a8"
             ],
             [
              0.3333333333333333,
              "#9c179e"
             ],
             [
              0.4444444444444444,
              "#bd3786"
             ],
             [
              0.5555555555555556,
              "#d8576b"
             ],
             [
              0.6666666666666666,
              "#ed7953"
             ],
             [
              0.7777777777777778,
              "#fb9f3a"
             ],
             [
              0.8888888888888888,
              "#fdca26"
             ],
             [
              1,
              "#f0f921"
             ]
            ],
            "type": "heatmap"
           }
          ],
          "heatmapgl": [
           {
            "colorbar": {
             "outlinewidth": 0,
             "ticks": ""
            },
            "colorscale": [
             [
              0,
              "#0d0887"
             ],
             [
              0.1111111111111111,
              "#46039f"
             ],
             [
              0.2222222222222222,
              "#7201a8"
             ],
             [
              0.3333333333333333,
              "#9c179e"
             ],
             [
              0.4444444444444444,
              "#bd3786"
             ],
             [
              0.5555555555555556,
              "#d8576b"
             ],
             [
              0.6666666666666666,
              "#ed7953"
             ],
             [
              0.7777777777777778,
              "#fb9f3a"
             ],
             [
              0.8888888888888888,
              "#fdca26"
             ],
             [
              1,
              "#f0f921"
             ]
            ],
            "type": "heatmapgl"
           }
          ],
          "histogram": [
           {
            "marker": {
             "pattern": {
              "fillmode": "overlay",
              "size": 10,
              "solidity": 0.2
             }
            },
            "type": "histogram"
           }
          ],
          "histogram2d": [
           {
            "colorbar": {
             "outlinewidth": 0,
             "ticks": ""
            },
            "colorscale": [
             [
              0,
              "#0d0887"
             ],
             [
              0.1111111111111111,
              "#46039f"
             ],
             [
              0.2222222222222222,
              "#7201a8"
             ],
             [
              0.3333333333333333,
              "#9c179e"
             ],
             [
              0.4444444444444444,
              "#bd3786"
             ],
             [
              0.5555555555555556,
              "#d8576b"
             ],
             [
              0.6666666666666666,
              "#ed7953"
             ],
             [
              0.7777777777777778,
              "#fb9f3a"
             ],
             [
              0.8888888888888888,
              "#fdca26"
             ],
             [
              1,
              "#f0f921"
             ]
            ],
            "type": "histogram2d"
           }
          ],
          "histogram2dcontour": [
           {
            "colorbar": {
             "outlinewidth": 0,
             "ticks": ""
            },
            "colorscale": [
             [
              0,
              "#0d0887"
             ],
             [
              0.1111111111111111,
              "#46039f"
             ],
             [
              0.2222222222222222,
              "#7201a8"
             ],
             [
              0.3333333333333333,
              "#9c179e"
             ],
             [
              0.4444444444444444,
              "#bd3786"
             ],
             [
              0.5555555555555556,
              "#d8576b"
             ],
             [
              0.6666666666666666,
              "#ed7953"
             ],
             [
              0.7777777777777778,
              "#fb9f3a"
             ],
             [
              0.8888888888888888,
              "#fdca26"
             ],
             [
              1,
              "#f0f921"
             ]
            ],
            "type": "histogram2dcontour"
           }
          ],
          "mesh3d": [
           {
            "colorbar": {
             "outlinewidth": 0,
             "ticks": ""
            },
            "type": "mesh3d"
           }
          ],
          "parcoords": [
           {
            "line": {
             "colorbar": {
              "outlinewidth": 0,
              "ticks": ""
             }
            },
            "type": "parcoords"
           }
          ],
          "pie": [
           {
            "automargin": true,
            "type": "pie"
           }
          ],
          "scatter": [
           {
            "fillpattern": {
             "fillmode": "overlay",
             "size": 10,
             "solidity": 0.2
            },
            "type": "scatter"
           }
          ],
          "scatter3d": [
           {
            "line": {
             "colorbar": {
              "outlinewidth": 0,
              "ticks": ""
             }
            },
            "marker": {
             "colorbar": {
              "outlinewidth": 0,
              "ticks": ""
             }
            },
            "type": "scatter3d"
           }
          ],
          "scattercarpet": [
           {
            "marker": {
             "colorbar": {
              "outlinewidth": 0,
              "ticks": ""
             }
            },
            "type": "scattercarpet"
           }
          ],
          "scattergeo": [
           {
            "marker": {
             "colorbar": {
              "outlinewidth": 0,
              "ticks": ""
             }
            },
            "type": "scattergeo"
           }
          ],
          "scattergl": [
           {
            "marker": {
             "colorbar": {
              "outlinewidth": 0,
              "ticks": ""
             }
            },
            "type": "scattergl"
           }
          ],
          "scattermapbox": [
           {
            "marker": {
             "colorbar": {
              "outlinewidth": 0,
              "ticks": ""
             }
            },
            "type": "scattermapbox"
           }
          ],
          "scatterpolar": [
           {
            "marker": {
             "colorbar": {
              "outlinewidth": 0,
              "ticks": ""
             }
            },
            "type": "scatterpolar"
           }
          ],
          "scatterpolargl": [
           {
            "marker": {
             "colorbar": {
              "outlinewidth": 0,
              "ticks": ""
             }
            },
            "type": "scatterpolargl"
           }
          ],
          "scatterternary": [
           {
            "marker": {
             "colorbar": {
              "outlinewidth": 0,
              "ticks": ""
             }
            },
            "type": "scatterternary"
           }
          ],
          "surface": [
           {
            "colorbar": {
             "outlinewidth": 0,
             "ticks": ""
            },
            "colorscale": [
             [
              0,
              "#0d0887"
             ],
             [
              0.1111111111111111,
              "#46039f"
             ],
             [
              0.2222222222222222,
              "#7201a8"
             ],
             [
              0.3333333333333333,
              "#9c179e"
             ],
             [
              0.4444444444444444,
              "#bd3786"
             ],
             [
              0.5555555555555556,
              "#d8576b"
             ],
             [
              0.6666666666666666,
              "#ed7953"
             ],
             [
              0.7777777777777778,
              "#fb9f3a"
             ],
             [
              0.8888888888888888,
              "#fdca26"
             ],
             [
              1,
              "#f0f921"
             ]
            ],
            "type": "surface"
           }
          ],
          "table": [
           {
            "cells": {
             "fill": {
              "color": "#EBF0F8"
             },
             "line": {
              "color": "white"
             }
            },
            "header": {
             "fill": {
              "color": "#C8D4E3"
             },
             "line": {
              "color": "white"
             }
            },
            "type": "table"
           }
          ]
         },
         "layout": {
          "annotationdefaults": {
           "arrowcolor": "#2a3f5f",
           "arrowhead": 0,
           "arrowwidth": 1
          },
          "autotypenumbers": "strict",
          "coloraxis": {
           "colorbar": {
            "outlinewidth": 0,
            "ticks": ""
           }
          },
          "colorscale": {
           "diverging": [
            [
             0,
             "#8e0152"
            ],
            [
             0.1,
             "#c51b7d"
            ],
            [
             0.2,
             "#de77ae"
            ],
            [
             0.3,
             "#f1b6da"
            ],
            [
             0.4,
             "#fde0ef"
            ],
            [
             0.5,
             "#f7f7f7"
            ],
            [
             0.6,
             "#e6f5d0"
            ],
            [
             0.7,
             "#b8e186"
            ],
            [
             0.8,
             "#7fbc41"
            ],
            [
             0.9,
             "#4d9221"
            ],
            [
             1,
             "#276419"
            ]
           ],
           "sequential": [
            [
             0,
             "#0d0887"
            ],
            [
             0.1111111111111111,
             "#46039f"
            ],
            [
             0.2222222222222222,
             "#7201a8"
            ],
            [
             0.3333333333333333,
             "#9c179e"
            ],
            [
             0.4444444444444444,
             "#bd3786"
            ],
            [
             0.5555555555555556,
             "#d8576b"
            ],
            [
             0.6666666666666666,
             "#ed7953"
            ],
            [
             0.7777777777777778,
             "#fb9f3a"
            ],
            [
             0.8888888888888888,
             "#fdca26"
            ],
            [
             1,
             "#f0f921"
            ]
           ],
           "sequentialminus": [
            [
             0,
             "#0d0887"
            ],
            [
             0.1111111111111111,
             "#46039f"
            ],
            [
             0.2222222222222222,
             "#7201a8"
            ],
            [
             0.3333333333333333,
             "#9c179e"
            ],
            [
             0.4444444444444444,
             "#bd3786"
            ],
            [
             0.5555555555555556,
             "#d8576b"
            ],
            [
             0.6666666666666666,
             "#ed7953"
            ],
            [
             0.7777777777777778,
             "#fb9f3a"
            ],
            [
             0.8888888888888888,
             "#fdca26"
            ],
            [
             1,
             "#f0f921"
            ]
           ]
          },
          "colorway": [
           "#636efa",
           "#EF553B",
           "#00cc96",
           "#ab63fa",
           "#FFA15A",
           "#19d3f3",
           "#FF6692",
           "#B6E880",
           "#FF97FF",
           "#FECB52"
          ],
          "font": {
           "color": "#2a3f5f"
          },
          "geo": {
           "bgcolor": "white",
           "lakecolor": "white",
           "landcolor": "white",
           "showlakes": true,
           "showland": true,
           "subunitcolor": "#C8D4E3"
          },
          "hoverlabel": {
           "align": "left"
          },
          "hovermode": "closest",
          "mapbox": {
           "style": "light"
          },
          "paper_bgcolor": "white",
          "plot_bgcolor": "white",
          "polar": {
           "angularaxis": {
            "gridcolor": "#EBF0F8",
            "linecolor": "#EBF0F8",
            "ticks": ""
           },
           "bgcolor": "white",
           "radialaxis": {
            "gridcolor": "#EBF0F8",
            "linecolor": "#EBF0F8",
            "ticks": ""
           }
          },
          "scene": {
           "xaxis": {
            "backgroundcolor": "white",
            "gridcolor": "#DFE8F3",
            "gridwidth": 2,
            "linecolor": "#EBF0F8",
            "showbackground": true,
            "ticks": "",
            "zerolinecolor": "#EBF0F8"
           },
           "yaxis": {
            "backgroundcolor": "white",
            "gridcolor": "#DFE8F3",
            "gridwidth": 2,
            "linecolor": "#EBF0F8",
            "showbackground": true,
            "ticks": "",
            "zerolinecolor": "#EBF0F8"
           },
           "zaxis": {
            "backgroundcolor": "white",
            "gridcolor": "#DFE8F3",
            "gridwidth": 2,
            "linecolor": "#EBF0F8",
            "showbackground": true,
            "ticks": "",
            "zerolinecolor": "#EBF0F8"
           }
          },
          "shapedefaults": {
           "line": {
            "color": "#2a3f5f"
           }
          },
          "ternary": {
           "aaxis": {
            "gridcolor": "#DFE8F3",
            "linecolor": "#A2B1C6",
            "ticks": ""
           },
           "baxis": {
            "gridcolor": "#DFE8F3",
            "linecolor": "#A2B1C6",
            "ticks": ""
           },
           "bgcolor": "white",
           "caxis": {
            "gridcolor": "#DFE8F3",
            "linecolor": "#A2B1C6",
            "ticks": ""
           }
          },
          "title": {
           "x": 0.05
          },
          "xaxis": {
           "automargin": true,
           "gridcolor": "#EBF0F8",
           "linecolor": "#EBF0F8",
           "ticks": "",
           "title": {
            "standoff": 15
           },
           "zerolinecolor": "#EBF0F8",
           "zerolinewidth": 2
          },
          "yaxis": {
           "automargin": true,
           "gridcolor": "#EBF0F8",
           "linecolor": "#EBF0F8",
           "ticks": "",
           "title": {
            "standoff": 15
           },
           "zerolinecolor": "#EBF0F8",
           "zerolinewidth": 2
          }
         }
        },
        "title": {
         "font": {
          "size": 30
         },
         "text": "Prevalence of multi-property in Barcelona's Airbnb listings<br><sup>% of Airbnb listings in Barcelona owned by multiproperty hosts</sup>"
        },
        "width": 1100,
        "xaxis": {
         "anchor": "y",
         "domain": [
          0,
          1
         ],
         "title": {
          "text": "Percentage of listings"
         }
        },
        "yaxis": {
         "anchor": "free",
         "categoryarray": [
          "100+",
          "10+",
          "5+",
          "2+",
          "2",
          "1"
         ],
         "categoryorder": "array",
         "domain": [
          0,
          1
         ],
         "shift": -10,
         "tickfont": {
          "size": 18,
          "weight": "normal"
         },
         "title": {
          "text": "Number of listings owned by the same host"
         }
        }
       }
      }
     },
     "metadata": {},
     "output_type": "display_data"
    }
   ],
   "source": [
    "import plotly.express as px\n",
    "\n",
    "palette = [\"#537c78\",\"#7ba591\",\"#cc222b\",\"#f15b4c\",\"#faa41b\",\"#ffd45b\"]\n",
    "\n",
    "# text annotation is written manually so as to manually modify the x position\n",
    "text_annotation = ['19%', '6%', '10%', '10%', '38%', '16%']\n",
    "text_annotation_xpos = [17, 5, 8, 8, 35, 15]\n",
    "text_annotation_ypos = [5, 4, 3, 2, 1, 0]\n",
    "annotations_text = [\n",
    "    dict(x=x, y=y, text=text_annotation, showarrow=False, font=dict(color='white', weight='bold', size=20))\n",
    "    for x, y, text_annotation in zip(text_annotation_xpos, text_annotation_ypos, text_annotation)\n",
    "]\n",
    "\n",
    "fig = px.bar(graph_data, x='percentage', y='binned_counts', orientation='h', color='binned_counts',\n",
    "             color_discrete_sequence=palette,\n",
    "             category_orders={'binned_counts': ['1', '2', '2+', '5+', '10+', '100+']}\n",
    "        )\n",
    "\n",
    "fig.update_layout(\n",
    "    height = 700,\n",
    "    width = 1100,\n",
    "    template = 'plotly_white',\n",
    "    annotations = annotations_text,\n",
    "    xaxis_title = 'Percentage of listings',\n",
    "    yaxis_title = 'Number of listings owned by the same host',\n",
    "    title = dict(text=\"Prevalence of multi-property in Barcelona's Airbnb listings<br><sup>% of Airbnb listings in Barcelona owned by multiproperty hosts</sup>\", font=dict(size=30)),\n",
    "    font = dict(family=\"Sans-serif\"),\n",
    "    legend = dict(\n",
    "        orientation='h',\n",
    "        x=0.5,\n",
    "        y=-0.13,\n",
    "        xanchor='center',\n",
    "        yanchor='bottom',\n",
    "        title=\"Number of properties per host\"\n",
    "    )\n",
    ")\n",
    "\n",
    "fig.update_yaxes(anchor='free', shift=-10, tickfont=dict(size=18, weight='normal'))\n",
    "fig.show()"
   ]
  },
  {
   "cell_type": "code",
   "execution_count": 29,
   "metadata": {},
   "outputs": [],
   "source": [
    "\n",
    "def airbinb_per_host(file, ptype, neighborhood):\n",
    "    df = pl.read_csv(file)\n",
    "\n",
    "    if neighborhood:\n",
    "        df = df.filter((pl.col('property_type')==ptype)&(pl.col('neighborhood_group_cleansed')==neighborhood)&\n",
    "                       (pl.col('has_availability')=='t'))\n",
    "    else:\n",
    "        df = df.filter((pl.col('property_type')==ptype)&(pl.col('has_availability')=='t'))\n",
    "    \n",
    "    host_count = df['host_id'].value_counts().sort('count')\n",
    "    breaks = [1, 2, 5, 10, 100]\n",
    "    labels = ['1', '2', '2+', '5+', '10+', '100+']\n",
    "    host_count = host_count.with_columns(\n",
    "        pl.col(\"count\").cut(breaks=breaks, labels=labels, left_closed=False).alias('binned_counts')\n",
    "    )\n",
    "    df = df.join(host_count, on='host_id', how='left')\n",
    "\n",
    "    graph_data = df['binned_counts'].value_counts().sort('binned_counts')\n",
    "    total_sum = graph_data['count'].sum()\n",
    "    graph_data = graph_data.with_columns(((pl.col('count')/total_sum)*100).alias('percentage'))\n",
    "\n",
    "    return graph_data\n",
    "\n"
   ]
  },
  {
   "cell_type": "code",
   "execution_count": 30,
   "metadata": {},
   "outputs": [
    {
     "name": "stdout",
     "output_type": "stream",
     "text": [
      "processing listings.csv.gz data...\n"
     ]
    },
    {
     "name": "stderr",
     "output_type": "stream",
     "text": [
      "sys:1: CategoricalRemappingWarning:\n",
      "\n",
      "Local categoricals have different encodings, expensive re-encoding is done to perform this merge operation. Consider using a StringCache or an Enum type if the categories are known in advance\n",
      "\n"
     ]
    },
    {
     "ename": "SchemaError",
     "evalue": "type String is incompatible with expected type Categorical(Some(local), Physical)",
     "output_type": "error",
     "traceback": [
      "\u001b[0;31m---------------------------------------------------------------------------\u001b[0m",
      "\u001b[0;31mSchemaError\u001b[0m                               Traceback (most recent call last)",
      "Cell \u001b[0;32mIn[30], line 21\u001b[0m\n\u001b[1;32m     18\u001b[0m     data \u001b[38;5;241m=\u001b[39m airbinb_per_host(file, \u001b[38;5;124m'\u001b[39m\u001b[38;5;124mEntire rental unit\u001b[39m\u001b[38;5;124m'\u001b[39m, \u001b[38;5;28;01mNone\u001b[39;00m)\n\u001b[1;32m     20\u001b[0m     data \u001b[38;5;241m=\u001b[39m data\u001b[38;5;241m.\u001b[39mwith_columns(pl\u001b[38;5;241m.\u001b[39mlit(city\u001b[38;5;241m.\u001b[39mcapitalize())\u001b[38;5;241m.\u001b[39malias(\u001b[38;5;124m'\u001b[39m\u001b[38;5;124mcity\u001b[39m\u001b[38;5;124m'\u001b[39m))\n\u001b[0;32m---> 21\u001b[0m     df_combined \u001b[38;5;241m=\u001b[39m \u001b[43mpl\u001b[49m\u001b[38;5;241;43m.\u001b[39;49m\u001b[43mconcat\u001b[49m\u001b[43m(\u001b[49m\u001b[43m[\u001b[49m\u001b[43mdf_combined\u001b[49m\u001b[43m,\u001b[49m\u001b[43m \u001b[49m\u001b[43mdata\u001b[49m\u001b[43m]\u001b[49m\u001b[43m,\u001b[49m\u001b[43m \u001b[49m\u001b[43mhow\u001b[49m\u001b[38;5;241;43m=\u001b[39;49m\u001b[38;5;124;43m'\u001b[39;49m\u001b[38;5;124;43mvertical\u001b[39;49m\u001b[38;5;124;43m'\u001b[39;49m\u001b[43m)\u001b[49m\n\u001b[1;32m     23\u001b[0m \u001b[38;5;28mprint\u001b[39m(\u001b[38;5;124mf\u001b[39m\u001b[38;5;124m\"\u001b[39m\u001b[38;5;124mfinished processing of \u001b[39m\u001b[38;5;132;01m{\u001b[39;00m\u001b[38;5;28mlen\u001b[39m(city_files)\u001b[38;5;132;01m}\u001b[39;00m\u001b[38;5;124m files\u001b[39m\u001b[38;5;124m\"\u001b[39m)\n",
      "File \u001b[0;32m~/.local/share/virtualenvs/insideairbnb-g70NggEd/lib/python3.11/site-packages/polars/functions/eager.py:185\u001b[0m, in \u001b[0;36mconcat\u001b[0;34m(items, how, rechunk, parallel)\u001b[0m\n\u001b[1;32m    183\u001b[0m \u001b[38;5;28;01mif\u001b[39;00m \u001b[38;5;28misinstance\u001b[39m(first, pl\u001b[38;5;241m.\u001b[39mDataFrame):\n\u001b[1;32m    184\u001b[0m     \u001b[38;5;28;01mif\u001b[39;00m how \u001b[38;5;241m==\u001b[39m \u001b[38;5;124m\"\u001b[39m\u001b[38;5;124mvertical\u001b[39m\u001b[38;5;124m\"\u001b[39m:\n\u001b[0;32m--> 185\u001b[0m         out \u001b[38;5;241m=\u001b[39m wrap_df(\u001b[43mplr\u001b[49m\u001b[38;5;241;43m.\u001b[39;49m\u001b[43mconcat_df\u001b[49m\u001b[43m(\u001b[49m\u001b[43melems\u001b[49m\u001b[43m)\u001b[49m)\n\u001b[1;32m    186\u001b[0m     \u001b[38;5;28;01melif\u001b[39;00m how \u001b[38;5;241m==\u001b[39m \u001b[38;5;124m\"\u001b[39m\u001b[38;5;124mvertical_relaxed\u001b[39m\u001b[38;5;124m\"\u001b[39m:\n\u001b[1;32m    187\u001b[0m         out \u001b[38;5;241m=\u001b[39m wrap_ldf(\n\u001b[1;32m    188\u001b[0m             plr\u001b[38;5;241m.\u001b[39mconcat_lf(\n\u001b[1;32m    189\u001b[0m                 [df\u001b[38;5;241m.\u001b[39mlazy() \u001b[38;5;28;01mfor\u001b[39;00m df \u001b[38;5;129;01min\u001b[39;00m elems],\n\u001b[0;32m   (...)\u001b[0m\n\u001b[1;32m    193\u001b[0m             )\n\u001b[1;32m    194\u001b[0m         )\u001b[38;5;241m.\u001b[39mcollect(no_optimization\u001b[38;5;241m=\u001b[39m\u001b[38;5;28;01mTrue\u001b[39;00m)\n",
      "\u001b[0;31mSchemaError\u001b[0m: type String is incompatible with expected type Categorical(Some(local), Physical)"
     ]
    }
   ],
   "source": [
    "import os\n",
    "import glob\n",
    "\n",
    "df_combined = pl.DataFrame({\n",
    "    \"binned_counts\": pl.Series(dtype=pl.Categorical),\n",
    "    \"count\": pl.Series(dtype=pl.UInt32),\n",
    "    \"percentage\": pl.Series(dtype=pl.Float64),\n",
    "    \"city\": pl.Series(dtype=pl.Categorical)\n",
    "})\n",
    "\n",
    "city_files = glob.glob(\"data/*.csv.gz\")\n",
    "\n",
    "for file in city_files:\n",
    "    file_name = os.path.basename(file)\n",
    "    city = file_name.split(\"-\")[0]\n",
    "    print(f\"processing {city} data...\")\n",
    "\n",
    "    data = airbinb_per_host(file, 'Entire rental unit', None)\n",
    "\n",
    "    data = data.with_columns(pl.lit(city.capitalize()).alias('city'))\n",
    "    df_combined = pl.concat([df_combined, data], how='vertical')\n",
    "\n",
    "print(f\"finished processing of {len(city_files)} files\")"
   ]
  },
  {
   "cell_type": "code",
   "execution_count": null,
   "metadata": {},
   "outputs": [],
   "source": []
  }
 ],
 "metadata": {
  "kernelspec": {
   "display_name": "insideairbnb-g70NggEd",
   "language": "python",
   "name": "python3"
  },
  "language_info": {
   "codemirror_mode": {
    "name": "ipython",
    "version": 3
   },
   "file_extension": ".py",
   "mimetype": "text/x-python",
   "name": "python",
   "nbconvert_exporter": "python",
   "pygments_lexer": "ipython3",
   "version": "3.11.10"
  }
 },
 "nbformat": 4,
 "nbformat_minor": 2
}
